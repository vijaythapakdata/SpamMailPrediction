{
  "nbformat": 4,
  "nbformat_minor": 0,
  "metadata": {
    "colab": {
      "name": "SpamMailPrediction.ipynb",
      "provenance": [],
      "collapsed_sections": [],
      "authorship_tag": "ABX9TyO7wzdSe30HZpyoVh6oXWZ3",
      "include_colab_link": true
    },
    "kernelspec": {
      "name": "python3",
      "display_name": "Python 3"
    },
    "language_info": {
      "name": "python"
    }
  },
  "cells": [
    {
      "cell_type": "markdown",
      "metadata": {
        "id": "view-in-github",
        "colab_type": "text"
      },
      "source": [
        "<a href=\"https://colab.research.google.com/github/vijaythapakdata/SpamMailPrediction/blob/main/SpamMailPrediction.ipynb\" target=\"_parent\"><img src=\"https://colab.research.google.com/assets/colab-badge.svg\" alt=\"Open In Colab\"/></a>"
      ]
    },
    {
      "cell_type": "markdown",
      "metadata": {
        "id": "I4hPvRV7i1AT"
      },
      "source": [
        "Import Depenecies\n"
      ]
    },
    {
      "cell_type": "code",
      "metadata": {
        "id": "8VlSlXu0i4bU"
      },
      "source": [
        "import pandas as pd\n",
        "import numpy as np\n",
        "from sklearn.naive_bayes import MultinomialNB\n",
        "from sklearn.model_selection import train_test_split\n",
        "from sklearn.feature_extraction.text import TfidfVectorizer\n",
        "from sklearn.metrics import accuracy_score"
      ],
      "execution_count": 29,
      "outputs": []
    },
    {
      "cell_type": "markdown",
      "metadata": {
        "id": "f4kMAbV5mnhq"
      },
      "source": [
        "Data Preprocessing"
      ]
    },
    {
      "cell_type": "code",
      "metadata": {
        "id": "9bbgc8oei9CS"
      },
      "source": [
        "df_mail=pd.read_csv(\"/content/spam.csv\")"
      ],
      "execution_count": 30,
      "outputs": []
    },
    {
      "cell_type": "code",
      "metadata": {
        "id": "JrHa-jR0nLDU"
      },
      "source": [
        "#replace null values with null string\n",
        "mail_data=df_mail.where((pd.notnull(df_mail)), \" \")\n"
      ],
      "execution_count": 31,
      "outputs": []
    },
    {
      "cell_type": "code",
      "metadata": {
        "colab": {
          "base_uri": "https://localhost:8080/"
        },
        "id": "yJqT18HSnj9R",
        "outputId": "67d9976b-83e9-41a4-ebac-20ace995b8a6"
      },
      "source": [
        "#print shape of mail\n",
        "mail_data.shape"
      ],
      "execution_count": 32,
      "outputs": [
        {
          "output_type": "execute_result",
          "data": {
            "text/plain": [
              "(5572, 2)"
            ]
          },
          "metadata": {},
          "execution_count": 32
        }
      ]
    },
    {
      "cell_type": "code",
      "metadata": {
        "colab": {
          "base_uri": "https://localhost:8080/",
          "height": 204
        },
        "id": "4Ozeare5nu9y",
        "outputId": "faf3cb2d-a81d-49e6-84e9-b21de0193fc1"
      },
      "source": [
        "mail_data.head()"
      ],
      "execution_count": 33,
      "outputs": [
        {
          "output_type": "execute_result",
          "data": {
            "text/html": [
              "<div>\n",
              "<style scoped>\n",
              "    .dataframe tbody tr th:only-of-type {\n",
              "        vertical-align: middle;\n",
              "    }\n",
              "\n",
              "    .dataframe tbody tr th {\n",
              "        vertical-align: top;\n",
              "    }\n",
              "\n",
              "    .dataframe thead th {\n",
              "        text-align: right;\n",
              "    }\n",
              "</style>\n",
              "<table border=\"1\" class=\"dataframe\">\n",
              "  <thead>\n",
              "    <tr style=\"text-align: right;\">\n",
              "      <th></th>\n",
              "      <th>Category</th>\n",
              "      <th>Message</th>\n",
              "    </tr>\n",
              "  </thead>\n",
              "  <tbody>\n",
              "    <tr>\n",
              "      <th>0</th>\n",
              "      <td>ham</td>\n",
              "      <td>Go until jurong point, crazy.. Available only ...</td>\n",
              "    </tr>\n",
              "    <tr>\n",
              "      <th>1</th>\n",
              "      <td>ham</td>\n",
              "      <td>Ok lar... Joking wif u oni...</td>\n",
              "    </tr>\n",
              "    <tr>\n",
              "      <th>2</th>\n",
              "      <td>spam</td>\n",
              "      <td>Free entry in 2 a wkly comp to win FA Cup fina...</td>\n",
              "    </tr>\n",
              "    <tr>\n",
              "      <th>3</th>\n",
              "      <td>ham</td>\n",
              "      <td>U dun say so early hor... U c already then say...</td>\n",
              "    </tr>\n",
              "    <tr>\n",
              "      <th>4</th>\n",
              "      <td>ham</td>\n",
              "      <td>Nah I don't think he goes to usf, he lives aro...</td>\n",
              "    </tr>\n",
              "  </tbody>\n",
              "</table>\n",
              "</div>"
            ],
            "text/plain": [
              "  Category                                            Message\n",
              "0      ham  Go until jurong point, crazy.. Available only ...\n",
              "1      ham                      Ok lar... Joking wif u oni...\n",
              "2     spam  Free entry in 2 a wkly comp to win FA Cup fina...\n",
              "3      ham  U dun say so early hor... U c already then say...\n",
              "4      ham  Nah I don't think he goes to usf, he lives aro..."
            ]
          },
          "metadata": {},
          "execution_count": 33
        }
      ]
    },
    {
      "cell_type": "code",
      "metadata": {
        "id": "pyQF1xvYnz0m"
      },
      "source": [
        "#label datasets\n",
        "#spam mail as ->0 and not spam mail is ->1\n",
        "mail_data.loc[mail_data[\"Category\"]==\"spam\",\"Category\"]=0\n",
        "mail_data.loc[mail_data[\"Category\"]==\"ham\",\"Category\"]=1"
      ],
      "execution_count": 34,
      "outputs": []
    },
    {
      "cell_type": "code",
      "metadata": {
        "id": "b_8LSLq0oaXE"
      },
      "source": [
        "#separte the data text and label\n",
        "#x->text , y->label\n",
        "x=mail_data[\"Message\"]\n",
        "y=mail_data[\"Category\"]"
      ],
      "execution_count": 35,
      "outputs": []
    },
    {
      "cell_type": "code",
      "metadata": {
        "colab": {
          "base_uri": "https://localhost:8080/"
        },
        "id": "FB_XCl-6oxhm",
        "outputId": "da8e3852-6a6d-44ad-9ef9-0c277b2e1a6d"
      },
      "source": [
        "print(x)"
      ],
      "execution_count": 36,
      "outputs": [
        {
          "output_type": "stream",
          "text": [
            "0       Go until jurong point, crazy.. Available only ...\n",
            "1                           Ok lar... Joking wif u oni...\n",
            "2       Free entry in 2 a wkly comp to win FA Cup fina...\n",
            "3       U dun say so early hor... U c already then say...\n",
            "4       Nah I don't think he goes to usf, he lives aro...\n",
            "                              ...                        \n",
            "5567    This is the 2nd time we have tried 2 contact u...\n",
            "5568                 Will ü b going to esplanade fr home?\n",
            "5569    Pity, * was in mood for that. So...any other s...\n",
            "5570    The guy did some bitching but I acted like i'd...\n",
            "5571                           Rofl. Its true to its name\n",
            "Name: Message, Length: 5572, dtype: object\n"
          ],
          "name": "stdout"
        }
      ]
    },
    {
      "cell_type": "code",
      "metadata": {
        "colab": {
          "base_uri": "https://localhost:8080/"
        },
        "id": "KA4GuIq0ozmJ",
        "outputId": "4716940c-50e9-4367-d13d-dba09ece7c51"
      },
      "source": [
        "print(y)"
      ],
      "execution_count": 37,
      "outputs": [
        {
          "output_type": "stream",
          "text": [
            "0       1\n",
            "1       1\n",
            "2       0\n",
            "3       1\n",
            "4       1\n",
            "       ..\n",
            "5567    0\n",
            "5568    1\n",
            "5569    1\n",
            "5570    1\n",
            "5571    1\n",
            "Name: Category, Length: 5572, dtype: object\n"
          ],
          "name": "stdout"
        }
      ]
    },
    {
      "cell_type": "markdown",
      "metadata": {
        "id": "hMehO0aDpIzg"
      },
      "source": [
        "Train test split"
      ]
    },
    {
      "cell_type": "code",
      "metadata": {
        "id": "fhQC-ap6pKof"
      },
      "source": [
        "x_train,x_test,y_train,y_test=train_test_split(x,y,test_size=0.3,random_state=40,stratify=y)"
      ],
      "execution_count": 38,
      "outputs": []
    },
    {
      "cell_type": "markdown",
      "metadata": {
        "id": "x7plhBGipfO8"
      },
      "source": [
        "Feature extraction "
      ]
    },
    {
      "cell_type": "code",
      "metadata": {
        "id": "E4eHw5Glpjdu"
      },
      "source": [
        "#transform text data into numeric data\n",
        "#converting all text to lowercase\n",
        "feature_extraction=TfidfVectorizer(min_df=1 ,stop_words=\"english\", lowercase=\"True\")\n",
        "x_train_features=feature_extraction.fit_transform(x_train)\n",
        "\n",
        "x_test_features=feature_extraction.transform(x_test)\n",
        "\n",
        "#convertin y_train and y_test into integers\n",
        "y_train=y_train.astype(\"int\")\n",
        "\n",
        "y_test=y_test.astype(\"int\")"
      ],
      "execution_count": 45,
      "outputs": []
    },
    {
      "cell_type": "markdown",
      "metadata": {
        "id": "4CdrhVAZrCSB"
      },
      "source": [
        "Training the model MultinomialNB"
      ]
    },
    {
      "cell_type": "code",
      "metadata": {
        "colab": {
          "base_uri": "https://localhost:8080/"
        },
        "id": "XpOvOYQ2rHwl",
        "outputId": "82bccab0-c379-4831-d16e-3bbe4234a0e4"
      },
      "source": [
        "model=MultinomialNB()\n",
        "model.fit(x_train_features,y_train)"
      ],
      "execution_count": 46,
      "outputs": [
        {
          "output_type": "execute_result",
          "data": {
            "text/plain": [
              "MultinomialNB(alpha=1.0, class_prior=None, fit_prior=True)"
            ]
          },
          "metadata": {},
          "execution_count": 46
        }
      ]
    },
    {
      "cell_type": "markdown",
      "metadata": {
        "id": "_ALp-i6rrXBj"
      },
      "source": [
        "Evaluation of the model"
      ]
    },
    {
      "cell_type": "code",
      "metadata": {
        "id": "MU449DbArae8"
      },
      "source": [
        "#prediction on train data\n",
        "prediction_on_train_data=model.predict(x_train_features)\n",
        "\n",
        "accuracy_prediction=accuracy_score(y_train,prediction_on_train_data)\n"
      ],
      "execution_count": 47,
      "outputs": []
    },
    {
      "cell_type": "code",
      "metadata": {
        "colab": {
          "base_uri": "https://localhost:8080/"
        },
        "id": "2PpTh_1QsGYE",
        "outputId": "5e194092-eab7-4ac1-9ea0-7ebadfc02c6d"
      },
      "source": [
        "print(\"Accuracy on training data\",accuracy_prediction)"
      ],
      "execution_count": 48,
      "outputs": [
        {
          "output_type": "stream",
          "text": [
            "Accuracy on training data 0.9815384615384616\n"
          ],
          "name": "stdout"
        }
      ]
    },
    {
      "cell_type": "code",
      "metadata": {
        "id": "RBmimWeVs6uE"
      },
      "source": [
        "prediction_on_test_data = model.predict(x_test_features)\n",
        "\n",
        "accuracy_test=accuracy_score(y_test,prediction_on_test_data)"
      ],
      "execution_count": 49,
      "outputs": []
    },
    {
      "cell_type": "code",
      "metadata": {
        "colab": {
          "base_uri": "https://localhost:8080/"
        },
        "id": "uXGhjSjTu4d1",
        "outputId": "fc006242-f68d-493c-bf7a-9a6bf6f51778"
      },
      "source": [
        "print(\"Accuracy of testing data is\",accuracy_test)"
      ],
      "execution_count": 50,
      "outputs": [
        {
          "output_type": "stream",
          "text": [
            "Accuracy of testing data is 0.9683014354066986\n"
          ],
          "name": "stdout"
        }
      ]
    },
    {
      "cell_type": "markdown",
      "metadata": {
        "id": "IaeaOZuPvQpS"
      },
      "source": [
        "Build a predictive model"
      ]
    },
    {
      "cell_type": "code",
      "metadata": {
        "colab": {
          "base_uri": "https://localhost:8080/"
        },
        "id": "wSdDHc0AvTcw",
        "outputId": "d92d9946-e7a2-4255-8d01-cfbb2af4921d"
      },
      "source": [
        "input_mail=[\"WINNER!! As a valued network customer you have been selected to receivea £900 prize reward! To claim call 09061701461. Claim code KL341. Valid 12 hours only.\"]\n",
        "\n",
        "#convert text to feature vector\n",
        "\n",
        "mail_features=feature_extraction.transform(input_mail)\n",
        "\n",
        "#making prediction\n",
        "\n",
        "prediction=model.predict(mail_features)\n",
        "\n",
        "print(prediction)\n",
        "\n",
        "if(prediction[0]==0):\n",
        "  print(\"Mail is Spam\")\n",
        "\n",
        "else:\n",
        "  print(\"Mail is ham\")"
      ],
      "execution_count": 53,
      "outputs": [
        {
          "output_type": "stream",
          "text": [
            "[0]\n",
            "Mail is Spam\n"
          ],
          "name": "stdout"
        }
      ]
    }
  ]
}